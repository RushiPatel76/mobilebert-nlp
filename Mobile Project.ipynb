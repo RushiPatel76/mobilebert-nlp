{
 "cells": [
  {
   "cell_type": "code",
   "execution_count": null,
   "id": "f7c85dbd",
   "metadata": {},
   "outputs": [],
   "source": [
    "!pip install scikit-learn\n"
   ]
  },
  {
   "cell_type": "code",
   "execution_count": 7,
   "id": "53056d37",
   "metadata": {},
   "outputs": [
    {
     "name": "stdout",
     "output_type": "stream",
     "text": [
      "                                       clean_comment  category\n",
      "0   family mormon have never tried explain them t...         1\n",
      "1  buddhism has very much lot compatible with chr...         1\n",
      "2  seriously don say thing first all they won get...        -1\n",
      "3  what you have learned yours and only yours wha...         0\n",
      "4  for your own benefit you may want read living ...         1\n",
      "(37149, 53084)\n",
      "['000' '0001' '000cr' '000rs' '001' '001445wd' '002' '004'\n",
      " '00457r005000450005' '006']\n"
     ]
    }
   ],
   "source": [
    "import pandas as pd\n",
    "from sklearn.feature_extraction.text import TfidfVectorizer\n",
    "\n",
    "# Load the dataset\n",
    "df = pd.read_csv('C:/Users/Yashoda/Documents/Reddit_Data.csv')\n",
    "\n",
    "# Preview the data to understand its structure\n",
    "print(df.head())\n",
    "\n",
    "# Assuming 'clean_comments' is the column with text data\n",
    "comments = df['clean_comment'].dropna().tolist()  # Remove any NaN values and convert to list\n",
    "\n",
    "# Initialize a TF-IDF Vectorizer\n",
    "tfidf_vectorizer = TfidfVectorizer()\n",
    "\n",
    "# Fit and transform the comments\n",
    "tfidf_matrix = tfidf_vectorizer.fit_transform(comments)\n",
    "\n",
    "# Print the shape of the tfidf_matrix to verify\n",
    "print(tfidf_matrix.shape)\n",
    "\n",
    "# Optionally, print feature names to see what words are considered as features\n",
    "print(tfidf_vectorizer.get_feature_names_out()[:10])  # Display first 10 feature names\n"
   ]
  },
  {
   "cell_type": "code",
   "execution_count": null,
   "id": "9c449c95",
   "metadata": {},
   "outputs": [],
   "source": []
  }
 ],
 "metadata": {
  "kernelspec": {
   "display_name": "Python 3 (ipykernel)",
   "language": "python",
   "name": "python3"
  },
  "language_info": {
   "codemirror_mode": {
    "name": "ipython",
    "version": 3
   },
   "file_extension": ".py",
   "mimetype": "text/x-python",
   "name": "python",
   "nbconvert_exporter": "python",
   "pygments_lexer": "ipython3",
   "version": "3.11.4"
  }
 },
 "nbformat": 4,
 "nbformat_minor": 5
}
